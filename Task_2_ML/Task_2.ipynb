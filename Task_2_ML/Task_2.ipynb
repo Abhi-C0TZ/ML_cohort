{
 "cells": [
  {
   "cell_type": "markdown",
   "id": "d708e042",
   "metadata": {},
   "source": [
    "## IMPORTING LIBRARIES"
   ]
  },
  {
   "cell_type": "code",
   "execution_count": 1,
   "id": "1221e64b",
   "metadata": {},
   "outputs": [],
   "source": [
    "import os\n",
    "import pandas as pd\n",
    "import cv2\n",
    "import numpy as np\n",
    "import random"
   ]
  },
  {
   "cell_type": "markdown",
   "id": "c1d3b4c4",
   "metadata": {},
   "source": [
    "## CREATED A FUNCTION TO RETURN NAME,LABEL,START_PT,END_PT OF AN IMAGE"
   ]
  },
  {
   "cell_type": "code",
   "execution_count": 2,
   "id": "ed64a6b1",
   "metadata": {},
   "outputs": [],
   "source": [
    "def data_fetcher(database,row):\n",
    "    data=database.iloc[row]\n",
    "    start_pt=(int(data[4]),int(data[5]))\n",
    "    end_pt=(int(data[6]),int(data[7]))\n",
    "    return data[0],data[1],start_pt,end_pt"
   ]
  },
  {
   "cell_type": "markdown",
   "id": "ad6c7fa2",
   "metadata": {},
   "source": [
    "## CREATED A FUNCTION TO RETURN THE IMAGE AFTER ADDING REQUIRED FEATURES"
   ]
  },
  {
   "cell_type": "code",
   "execution_count": 3,
   "id": "c1fe080e",
   "metadata": {},
   "outputs": [],
   "source": [
    "def image_editor(name,image,start_pt,end_pt,label,color,thickness,font_type,font_size):\n",
    "    color = tuple([int(x) for x in color])\n",
    "    image=cv2.rectangle(image,start_pt,end_pt,color,thickness)\n",
    "    image=cv2.putText(image, label,(image.shape[1]//2,image.shape[0]//2),font_type,\n",
    "                      font_size,color,thickness)\n",
    "    return image"
   ]
  },
  {
   "cell_type": "markdown",
   "id": "9f4ac842",
   "metadata": {},
   "source": [
    "## THIS FUNCTION IS TO GENERATE RANDOM FEATURES FOR EACH IMAGE"
   ]
  },
  {
   "cell_type": "code",
   "execution_count": 4,
   "id": "5ddf4216",
   "metadata": {},
   "outputs": [],
   "source": [
    "def rand_feature_generator(n):\n",
    "    color_list=[]\n",
    "    font_type_list=[]\n",
    "    font_size_list=[]\n",
    "    thickness_list=[]\n",
    "    i=0\n",
    "    while True:\n",
    "        a=tuple(np.random.randint(0,256,3))\n",
    "        if a not in color_list:\n",
    "            color_list.append(a)\n",
    "            i+=1\n",
    "        if i>n:\n",
    "            break\n",
    "    i=0\n",
    "    a=random.sample(range(0,8),8)\n",
    "    a.append(16)\n",
    "    while True:\n",
    "        if len(a)<n:\n",
    "            b=random.sample(range(0,8),8)\n",
    "            b.append(16)\n",
    "            if n-len(a)<=len(b):\n",
    "                for i in range(n-len(a)):\n",
    "                    a.append(b.pop(0))\n",
    "            else:\n",
    "                for i in range(len(b)):\n",
    "                    a.append(b.pop(0))\n",
    "        elif len(a)==n:\n",
    "            break\n",
    "    font_type_list=a.copy()\n",
    "    font_size_list=list(np.random.randint(1,4,n))\n",
    "    thickness_list=list(np.random.randint(1,4,n))\n",
    "    return color_list,font_type_list,font_size_list,thickness_list"
   ]
  },
  {
   "cell_type": "markdown",
   "id": "cc0ddcc1",
   "metadata": {},
   "source": [
    "## THE FINAL FUNCTION TO CALL ALL THESE FUNTIONS TO GET THE DESIRED IMAGE OUTPUT"
   ]
  },
  {
   "cell_type": "code",
   "execution_count": 5,
   "id": "efa64c75",
   "metadata": {},
   "outputs": [],
   "source": [
    "def Task_2():\n",
    "    database=pd.read_csv('data_labels.csv')\n",
    "    database=database.iloc[1:]\n",
    "    n=len(database)\n",
    "    i=0\n",
    "    color_list,font_type_list,font_size_list,thickness_list=rand_feature_generator(n)\n",
    "    os.makedirs('results')\n",
    "    while True:\n",
    "        name,label,start_pt,end_pt=data_fetcher(database,i)\n",
    "        image=cv2.imread('cat/'+name)\n",
    "        image=image_editor(name,image,start_pt,end_pt,label,color_list.pop(),thickness_list.pop(),\n",
    "                           font_type_list.pop(),font_size_list.pop())\n",
    "        cv2.imwrite(f'results/featured_{name}',image)\n",
    "        i+=1\n",
    "        if i==n:\n",
    "            break"
   ]
  },
  {
   "cell_type": "code",
   "execution_count": 6,
   "id": "3040ace6",
   "metadata": {
    "scrolled": true
   },
   "outputs": [],
   "source": [
    "Task_2()"
   ]
  }
 ],
 "metadata": {
  "kernelspec": {
   "display_name": "Python 3",
   "language": "python",
   "name": "python3"
  },
  "language_info": {
   "codemirror_mode": {
    "name": "ipython",
    "version": 3
   },
   "file_extension": ".py",
   "mimetype": "text/x-python",
   "name": "python",
   "nbconvert_exporter": "python",
   "pygments_lexer": "ipython3",
   "version": "3.8.10"
  }
 },
 "nbformat": 4,
 "nbformat_minor": 5
}
