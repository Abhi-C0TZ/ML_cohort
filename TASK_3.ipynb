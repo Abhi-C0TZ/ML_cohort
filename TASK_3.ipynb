{
 "cells": [
  {
   "cell_type": "markdown",
   "id": "d202811b",
   "metadata": {},
   "source": [
    "## IMPORTING LIBRARIES"
   ]
  },
  {
   "cell_type": "code",
   "execution_count": 1,
   "id": "8cfa9637",
   "metadata": {},
   "outputs": [],
   "source": [
    "import tensorflow as tf\n",
    "import matplotlib.pyplot as plt\n",
    "import numpy as np \n",
    "import pandas as pd\n",
    "import os\n",
    "import cv2"
   ]
  },
  {
   "cell_type": "markdown",
   "id": "5f627e75",
   "metadata": {},
   "source": [
    "## READING DATA"
   ]
  },
  {
   "cell_type": "code",
   "execution_count": 2,
   "id": "5a5d154a",
   "metadata": {},
   "outputs": [],
   "source": [
    "train_link='train_data'\n",
    "train_label=pd.read_csv('train_labels.csv')\n",
    "test_link='test_data'\n",
    "test_label=pd.read_csv('test_labels.csv')"
   ]
  },
  {
   "cell_type": "code",
   "execution_count": 3,
   "id": "9dcb6015",
   "metadata": {},
   "outputs": [],
   "source": [
    "train_images_names=train_label.iloc[:,0].values\n",
    "test_images_names=test_label.iloc[:,0].values"
   ]
  },
  {
   "cell_type": "markdown",
   "id": "2055656a",
   "metadata": {},
   "source": [
    "# This part is for checking if any null images/data are present"
   ]
  },
  {
   "cell_type": "raw",
   "id": "f48fe930",
   "metadata": {},
   "source": [
    "#just made these lines of code for checking if any null images are there.U can uncomment this to check it out. "
   ]
  },
  {
   "cell_type": "raw",
   "id": "83fe13e3",
   "metadata": {},
   "source": [
    "def check_null_images(train_link,train_images_names,i):\n",
    "    train_file=str(train_images_names[i])+'.png'\n",
    "    if train_file in os.listdir(train_link):\n",
    "        pass\n",
    "    else:\n",
    "        return train_file\n",
    "    return 0"
   ]
  },
  {
   "cell_type": "raw",
   "id": "6c89fa06",
   "metadata": {},
   "source": [
    "i=0\n",
    "train_null=[]\n",
    "while True:\n",
    "    ret=check_null_images(train_link,train_images_names,i)\n",
    "    if ret==0:\n",
    "        pass\n",
    "    else:\n",
    "        train_null.append(ret)\n",
    "    i+=1\n",
    "    if i==len(train_images_names):\n",
    "        break"
   ]
  },
  {
   "cell_type": "raw",
   "id": "b87bbd29",
   "metadata": {},
   "source": [
    "train_null"
   ]
  },
  {
   "cell_type": "raw",
   "id": "4176c4bc",
   "metadata": {},
   "source": [
    "i=0\n",
    "test_null=[]\n",
    "while True:\n",
    "    ret=check_null_images(test_link,test_images_names,i)\n",
    "    if ret==0:\n",
    "        pass\n",
    "    else:\n",
    "        test_null.append(ret)\n",
    "    i+=1\n",
    "    if i==len(test_images_names):\n",
    "        break"
   ]
  },
  {
   "cell_type": "raw",
   "id": "b699158a",
   "metadata": {
    "scrolled": true
   },
   "source": [
    "test_null"
   ]
  },
  {
   "cell_type": "markdown",
   "id": "a71e3a3f",
   "metadata": {},
   "source": [
    "## PRE-PROCESSING TRAINING AND TESTING DATASET"
   ]
  },
  {
   "cell_type": "code",
   "execution_count": 4,
   "id": "eab5993c",
   "metadata": {},
   "outputs": [],
   "source": [
    "x_train=[]\n",
    "x_test=[]\n",
    "y_train=[]\n",
    "y_test=[]"
   ]
  },
  {
   "cell_type": "code",
   "execution_count": 5,
   "id": "4f0a73c4",
   "metadata": {},
   "outputs": [],
   "source": [
    "def initialize_train_test_set(train_link,test_link,train_images_names,test_images_names,train_label,test_label):\n",
    "    for i in range(len(os.listdir(train_link))):\n",
    "        image=cv2.imread(train_link+'/'+str(train_images_names[i])+'.png')\n",
    "        x_train.append(image)\n",
    "        y_train.append(train_label.iloc[i,1])\n",
    "        if i<len(test_images_names):\n",
    "            image=cv2.imread(test_link+'/'+str(test_images_names[i])+'.png')\n",
    "            x_test.append(image)\n",
    "            y_test.append(test_label.iloc[i,1])\n",
    "    return x_train,x_test,y_train,y_test"
   ]
  },
  {
   "cell_type": "code",
   "execution_count": 6,
   "id": "33ebc6d5",
   "metadata": {},
   "outputs": [],
   "source": [
    "x_train,x_test,y_train,y_test=initialize_train_test_set(train_link,test_link,train_images_names,test_images_names,train_label,test_label)"
   ]
  },
  {
   "cell_type": "code",
   "execution_count": 7,
   "id": "179a1028",
   "metadata": {},
   "outputs": [],
   "source": [
    "x_train=np.array(x_train,dtype='float32')\n",
    "x_test=np.array(x_test,dtype='float32')\n",
    "y_train=np.array(y_train)\n",
    "y_test=np.array(y_test)"
   ]
  },
  {
   "cell_type": "code",
   "execution_count": 8,
   "id": "b3868727",
   "metadata": {},
   "outputs": [
    {
     "data": {
      "text/plain": [
       "(8000, 32, 32, 3)"
      ]
     },
     "execution_count": 8,
     "metadata": {},
     "output_type": "execute_result"
    }
   ],
   "source": [
    "x_train.shape"
   ]
  },
  {
   "cell_type": "code",
   "execution_count": 9,
   "id": "9486085f",
   "metadata": {},
   "outputs": [],
   "source": [
    "x_train/=255\n",
    "x_test/=255"
   ]
  },
  {
   "cell_type": "markdown",
   "id": "f4c4d924",
   "metadata": {},
   "source": [
    "## I FORAMTTED THE 'CAT'/'DOG' TO 0,1 NUMERIC FORMAT"
   ]
  },
  {
   "cell_type": "code",
   "execution_count": 10,
   "id": "e90536d0",
   "metadata": {},
   "outputs": [],
   "source": [
    "class_labels={0: 'cat', 1: 'dog'}   "
   ]
  },
  {
   "cell_type": "code",
   "execution_count": 11,
   "id": "d0a92f1b",
   "metadata": {},
   "outputs": [],
   "source": [
    "for i in range(len(y_train)):\n",
    "    if y_train[i]=='cat':\n",
    "        y_train[i]=0\n",
    "    else:\n",
    "        y_train[i]=1"
   ]
  },
  {
   "cell_type": "code",
   "execution_count": 12,
   "id": "4739148a",
   "metadata": {},
   "outputs": [],
   "source": [
    "for i in range(len(y_test)):\n",
    "    if y_test[i]=='cat':\n",
    "        y_test[i]=0\n",
    "    else:\n",
    "        y_test[i]=1"
   ]
  },
  {
   "cell_type": "markdown",
   "id": "6822d85e",
   "metadata": {},
   "source": [
    "## NOW JUST CATEGORICALLY ENCODED THE Y-DATASET FOR BETTER FITTING WITH THE CNN MODEL"
   ]
  },
  {
   "cell_type": "code",
   "execution_count": 13,
   "id": "21100a88",
   "metadata": {},
   "outputs": [],
   "source": [
    "y_train=tf.keras.utils.to_categorical(y_train,2)\n",
    "y_test=tf.keras.utils.to_categorical(y_test,2)"
   ]
  },
  {
   "cell_type": "markdown",
   "id": "09c99bae",
   "metadata": {},
   "source": [
    "## IMPORTED THE REQUIRED LAYERS AND MODELS FROM KERAS"
   ]
  },
  {
   "cell_type": "code",
   "execution_count": 14,
   "id": "ed73619e",
   "metadata": {},
   "outputs": [],
   "source": [
    "from tensorflow.keras.models import Sequential\n",
    "from tensorflow.keras.layers import Dense,Dropout,MaxPool2D,Conv2D,Flatten"
   ]
  },
  {
   "cell_type": "markdown",
   "id": "b54aea93",
   "metadata": {},
   "source": [
    "## THE MODEL CREATION AND FITTING TO THE TRAINING SET"
   ]
  },
  {
   "cell_type": "code",
   "execution_count": 15,
   "id": "6a03baea",
   "metadata": {},
   "outputs": [
    {
     "name": "stdout",
     "output_type": "stream",
     "text": [
      "Epoch 1/10\n",
      "32/32 [==============================] - 26s 792ms/step - loss: 0.7094 - accuracy: 0.5220 - val_loss: 0.6860 - val_accuracy: 0.5235\n",
      "Epoch 2/10\n",
      "32/32 [==============================] - 25s 794ms/step - loss: 0.6833 - accuracy: 0.5621 - val_loss: 0.6829 - val_accuracy: 0.5805\n",
      "Epoch 3/10\n",
      "32/32 [==============================] - 25s 796ms/step - loss: 0.6627 - accuracy: 0.5970 - val_loss: 0.6549 - val_accuracy: 0.6250\n",
      "Epoch 4/10\n",
      "32/32 [==============================] - 26s 806ms/step - loss: 0.6322 - accuracy: 0.6489 - val_loss: 0.6073 - val_accuracy: 0.6780\n",
      "Epoch 5/10\n",
      "32/32 [==============================] - 26s 800ms/step - loss: 0.5918 - accuracy: 0.6829 - val_loss: 0.5830 - val_accuracy: 0.6885\n",
      "Epoch 6/10\n",
      "32/32 [==============================] - 25s 793ms/step - loss: 0.5646 - accuracy: 0.7055 - val_loss: 0.5670 - val_accuracy: 0.7175\n",
      "Epoch 7/10\n",
      "32/32 [==============================] - 25s 797ms/step - loss: 0.5324 - accuracy: 0.7315 - val_loss: 0.5410 - val_accuracy: 0.7295\n",
      "Epoch 8/10\n",
      "32/32 [==============================] - 26s 798ms/step - loss: 0.5019 - accuracy: 0.7494 - val_loss: 0.5329 - val_accuracy: 0.7350\n",
      "Epoch 9/10\n",
      "32/32 [==============================] - 26s 799ms/step - loss: 0.4784 - accuracy: 0.7635 - val_loss: 0.5155 - val_accuracy: 0.7500\n",
      "Epoch 10/10\n",
      "32/32 [==============================] - 26s 820ms/step - loss: 0.4545 - accuracy: 0.7860 - val_loss: 0.5260 - val_accuracy: 0.7530\n"
     ]
    },
    {
     "data": {
      "text/plain": [
       "<tensorflow.python.keras.callbacks.History at 0x245d7b6f3d0>"
      ]
     },
     "execution_count": 15,
     "metadata": {},
     "output_type": "execute_result"
    }
   ],
   "source": [
    "seq=Sequential()\n",
    "# Convulational Layers(image preprocessing layer)\n",
    "seq.add(Conv2D(filters=50,kernel_size=(3,3),strides=1,padding='same',activation='relu')) #need to add an input shape argument\n",
    "seq.add(Conv2D(filters=75,kernel_size=(3,3),strides=1,padding='same',activation='relu')) #if we didn't change the shape before\n",
    "seq.add(MaxPool2D(pool_size=2))\n",
    "seq.add(Dropout(rate=0.25)) #randomly sets some values in the array to 0 but makes the same unchanging but scaling the remaining\n",
    "#with 1/(1-rate) \"ps:rate is the frequency by which the values become 0\"\n",
    "seq.add(Conv2D(filters=125,kernel_size=(3,3),strides=1,padding='same',activation='relu'))\n",
    "seq.add(MaxPool2D(pool_size=2))\n",
    "seq.add(Dropout(rate=0.25))\n",
    "seq.add(Flatten())\n",
    "# Hidden layers (neurons)\n",
    "seq.add(Dense(units=500,activation='relu'))\n",
    "seq.add(Dropout(rate=0.4))\n",
    "seq.add(Dense(units=250,activation='relu'))\n",
    "seq.add(Dropout(rate=0.3))\n",
    "# Outpout layer\n",
    "seq.add(Dense(units=2,activation='softmax'))\n",
    "# Compiling\n",
    "seq.compile(optimizer='adam',loss='categorical_crossentropy',metrics=['accuracy'])\n",
    "# Training model\n",
    "seq.fit(x_train,y_train,batch_size=256,epochs=10,validation_data=(x_test,y_test))"
   ]
  },
  {
   "cell_type": "markdown",
   "id": "2e443dd4",
   "metadata": {},
   "source": [
    "## CHECKING THE ACCURACY OF MODEL"
   ]
  },
  {
   "cell_type": "code",
   "execution_count": 16,
   "id": "5c3d2361",
   "metadata": {},
   "outputs": [],
   "source": [
    "batch_score=x_test[:]\n",
    "labels_score=np.argmax(y_test[:],axis=-1)"
   ]
  },
  {
   "cell_type": "code",
   "execution_count": 17,
   "id": "f2b3187f",
   "metadata": {},
   "outputs": [
    {
     "name": "stdout",
     "output_type": "stream",
     "text": [
      "63/63 [==============================] - 2s 28ms/step\n"
     ]
    }
   ],
   "source": [
    "predictions_score=seq.predict(batch_score,verbose=1) #verbose is meant to show the progress bar of the predictions"
   ]
  },
  {
   "cell_type": "code",
   "execution_count": 18,
   "id": "d8c903e0",
   "metadata": {
    "scrolled": true
   },
   "outputs": [],
   "source": [
    "class_result_score=np.argmax(predictions_score,axis=-1)"
   ]
  },
  {
   "cell_type": "markdown",
   "id": "09d4f5fb",
   "metadata": {},
   "source": [
    "## ACCURACY CAN INCREASE TO 77.3 IF EPOCHS ARE SET TO 20"
   ]
  },
  {
   "cell_type": "code",
   "execution_count": 19,
   "id": "19a575bb",
   "metadata": {},
   "outputs": [
    {
     "name": "stdout",
     "output_type": "stream",
     "text": [
      "0.753\n"
     ]
    }
   ],
   "source": [
    "from sklearn.metrics import accuracy_score\n",
    "print(accuracy_score(labels_score,class_result_score))"
   ]
  },
  {
   "cell_type": "markdown",
   "id": "7fc1bb91",
   "metadata": {},
   "source": [
    "## CHECKING ACCURACY FOR 10 IMAGES"
   ]
  },
  {
   "cell_type": "code",
   "execution_count": 20,
   "id": "ef4f04e0",
   "metadata": {},
   "outputs": [],
   "source": [
    "batch=x_test[0:9]\n",
    "labels=np.argmax(y_test[0:9],axis=-1)"
   ]
  },
  {
   "cell_type": "code",
   "execution_count": 21,
   "id": "94f69a63",
   "metadata": {},
   "outputs": [
    {
     "name": "stdout",
     "output_type": "stream",
     "text": [
      "1/1 [==============================] - 0s 31ms/step\n"
     ]
    }
   ],
   "source": [
    "predictions=seq.predict(batch,verbose=1)"
   ]
  },
  {
   "cell_type": "code",
   "execution_count": 22,
   "id": "de4a1665",
   "metadata": {},
   "outputs": [
    {
     "name": "stdout",
     "output_type": "stream",
     "text": [
      "1.0\n",
      "1.0\n",
      "0.99999994\n",
      "1.0\n",
      "1.0\n",
      "1.0\n",
      "1.0\n",
      "1.0\n",
      "1.0\n"
     ]
    }
   ],
   "source": [
    "for image in predictions: # Adding the predicted values of a image being any of the particular outputs\n",
    "    print(np.sum(image))  # the total probability must be close to 1.If it isn't there might be overfitting or model is not good"
   ]
  },
  {
   "cell_type": "code",
   "execution_count": 23,
   "id": "00d1950e",
   "metadata": {},
   "outputs": [
    {
     "name": "stdout",
     "output_type": "stream",
     "text": [
      "[0 0 0 0 0 0 0 1 0]\n"
     ]
    }
   ],
   "source": [
    "class_result=np.argmax(predictions,axis=-1)\n",
    "print(class_result)"
   ]
  },
  {
   "cell_type": "markdown",
   "id": "ecfdc3ce",
   "metadata": {},
   "source": [
    "## PRINTING THE IMAGES AND CHECKING MODEL PREDICTION"
   ]
  },
  {
   "cell_type": "code",
   "execution_count": 24,
   "id": "b29712e5",
   "metadata": {},
   "outputs": [
    {
     "data": {
      "image/png": "[encoded data removed]",
      "text/plain": [
       "<Figure size 1440x1440 with 9 Axes>"
      ]
     },
     "metadata": {
      "needs_background": "light"
     },
     "output_type": "display_data"
    }
   ],
   "source": [
    "fig,axs=plt.subplots(nrows=3,ncols=3,figsize=(20,20))\n",
    "fig.subplots_adjust(hspace=1)\n",
    "axs=axs.flatten()\n",
    "for i,img in enumerate(batch):\n",
    "    for key,value in class_labels.items():\n",
    "        if class_result[i]==key:\n",
    "            title='prediction: {}\\nActual: {}'.format(class_labels[key],class_labels[labels[i]])\n",
    "            axs[i].set_title(title)\n",
    "            axs[i].axes.get_xaxis().set_visible(False)\n",
    "            axs[i].axes.get_yaxis().set_visible(False)\n",
    "    axs[i].imshow(img)\n",
    "plt.show()"
   ]
  }
 ],
 "metadata": {
  "kernelspec": {
   "display_name": "Python 3",
   "language": "python",
   "name": "python3"
  },
  "language_info": {
   "codemirror_mode": {
    "name": "ipython",
    "version": 3
   },
   "file_extension": ".py",
   "mimetype": "text/x-python",
   "name": "python",
   "nbconvert_exporter": "python",
   "pygments_lexer": "ipython3",
   "version": "3.8.10"
  }
 },
 "nbformat": 4,
 "nbformat_minor": 5
}
