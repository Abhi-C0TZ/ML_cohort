{
 "cells": [
  {
   "cell_type": "code",
   "execution_count": 125,
   "id": "b4b8ffba",
   "metadata": {},
   "outputs": [],
   "source": [
    "link='C:/Users/USER/Task_1_ML/cases/train/mixed_2.jpg'\n",
    "white1='C:/Users/USER/Task_1_ML/cases/train/White.jpg'"
   ]
  },
  {
   "cell_type": "code",
   "execution_count": 112,
   "id": "ae952348",
   "metadata": {},
   "outputs": [],
   "source": [
    "import cv2"
   ]
  },
  {
   "cell_type": "code",
   "execution_count": 113,
   "id": "77888715",
   "metadata": {},
   "outputs": [],
   "source": [
    "apple=cv2.imread(link)\n",
    "img=cv2.imread(link,0)\n",
    "bg=cv2.imread(white1)"
   ]
  },
  {
   "cell_type": "code",
   "execution_count": 128,
   "id": "11d2746f",
   "metadata": {},
   "outputs": [],
   "source": [
    "bg=cv2.resize(bg,(apple.shape[1],apple.shape[0]))"
   ]
  },
  {
   "cell_type": "code",
   "execution_count": 116,
   "id": "8507a776",
   "metadata": {},
   "outputs": [],
   "source": [
    "cv2.imshow(\"TEST1\",img)\n",
    "cv2.imshow(\"TEST2\",bg)\n",
    "cv2.waitKey(0)\n",
    "cv2.destroyAllWindows()"
   ]
  },
  {
   "cell_type": "code",
   "execution_count": 124,
   "id": "8a4da618",
   "metadata": {},
   "outputs": [
    {
     "data": {
      "text/plain": [
       "(957, 1300)"
      ]
     },
     "execution_count": 124,
     "metadata": {},
     "output_type": "execute_result"
    }
   ],
   "source": [
    "img.shape"
   ]
  },
  {
   "cell_type": "code",
   "execution_count": 117,
   "id": "d1afcdf8",
   "metadata": {},
   "outputs": [],
   "source": [
    "ret, mask = cv2.threshold(img, 240,255, cv2.THRESH_BINARY_INV)"
   ]
  },
  {
   "cell_type": "code",
   "execution_count": 118,
   "id": "44c2ac69",
   "metadata": {},
   "outputs": [],
   "source": [
    "cv2.imshow('dst',mask)\n",
    "cv2.waitKey(0)\n",
    "cv2.destroyAllWindows()"
   ]
  },
  {
   "cell_type": "code",
   "execution_count": 119,
   "id": "4837c88c",
   "metadata": {},
   "outputs": [],
   "source": [
    "dst=cv2.bitwise_not(mask)"
   ]
  },
  {
   "cell_type": "code",
   "execution_count": 120,
   "id": "35fefd44",
   "metadata": {},
   "outputs": [],
   "source": [
    "cv2.imshow('dst',dst)\n",
    "cv2.waitKey(0)\n",
    "cv2.destroyAllWindows()"
   ]
  },
  {
   "cell_type": "code",
   "execution_count": 122,
   "id": "bf76ed27",
   "metadata": {},
   "outputs": [
    {
     "data": {
      "text/plain": [
       "(1300, 957, 3)"
      ]
     },
     "execution_count": 122,
     "metadata": {},
     "output_type": "execute_result"
    }
   ],
   "source": [
    "bg.shape"
   ]
  },
  {
   "cell_type": "code",
   "execution_count": 123,
   "id": "9e52f4f2",
   "metadata": {},
   "outputs": [
    {
     "data": {
      "text/plain": [
       "(957, 1300)"
      ]
     },
     "execution_count": 123,
     "metadata": {},
     "output_type": "execute_result"
    }
   ],
   "source": [
    "mask.shape"
   ]
  },
  {
   "cell_type": "code",
   "execution_count": 121,
   "id": "58e84f3e",
   "metadata": {},
   "outputs": [
    {
     "ename": "error",
     "evalue": "OpenCV(4.5.5) D:\\a\\opencv-python\\opencv-python\\opencv\\modules\\core\\src\\arithm.cpp:230: error: (-215:Assertion failed) (mtype == CV_8U || mtype == CV_8S) && _mask.sameSize(*psrc1) in function 'cv::binary_op'\n",
     "output_type": "error",
     "traceback": [
      "\u001b[1;31m---------------------------------------------------------------------------\u001b[0m",
      "\u001b[1;31merror\u001b[0m                                     Traceback (most recent call last)",
      "\u001b[1;32m<ipython-input-121-e144759736c1>\u001b[0m in \u001b[0;36m<module>\u001b[1;34m\u001b[0m\n\u001b[1;32m----> 1\u001b[1;33m \u001b[0mimg_bg\u001b[0m\u001b[1;33m=\u001b[0m\u001b[0mcv2\u001b[0m\u001b[1;33m.\u001b[0m\u001b[0mbitwise_and\u001b[0m\u001b[1;33m(\u001b[0m\u001b[0mbg\u001b[0m\u001b[1;33m,\u001b[0m\u001b[0mbg\u001b[0m\u001b[1;33m,\u001b[0m\u001b[0mmask\u001b[0m\u001b[1;33m=\u001b[0m\u001b[0mdst\u001b[0m\u001b[1;33m)\u001b[0m\u001b[1;33m\u001b[0m\u001b[1;33m\u001b[0m\u001b[0m\n\u001b[0m",
      "\u001b[1;31merror\u001b[0m: OpenCV(4.5.5) D:\\a\\opencv-python\\opencv-python\\opencv\\modules\\core\\src\\arithm.cpp:230: error: (-215:Assertion failed) (mtype == CV_8U || mtype == CV_8S) && _mask.sameSize(*psrc1) in function 'cv::binary_op'\n"
     ]
    }
   ],
   "source": [
    "img_bg=cv2.bitwise_and(bg,bg,mask=dst)"
   ]
  },
  {
   "cell_type": "code",
   "execution_count": 90,
   "id": "4ec6a232",
   "metadata": {},
   "outputs": [],
   "source": [
    "cv2.imshow('dst',img_bg)\n",
    "cv2.waitKey(0)\n",
    "cv2.destroyAllWindows()"
   ]
  },
  {
   "cell_type": "code",
   "execution_count": 93,
   "id": "4a710fcc",
   "metadata": {},
   "outputs": [],
   "source": [
    "img_fr=cv2.bitwise_and(apple,apple,mask=mask)"
   ]
  },
  {
   "cell_type": "code",
   "execution_count": 94,
   "id": "c675000f",
   "metadata": {},
   "outputs": [],
   "source": [
    "cv2.imshow('dst',img_fr)\n",
    "cv2.waitKey(0)\n",
    "cv2.destroyAllWindows()"
   ]
  },
  {
   "cell_type": "code",
   "execution_count": 95,
   "id": "cc356a69",
   "metadata": {},
   "outputs": [],
   "source": [
    "a=cv2.add(img_bg,img_fr)"
   ]
  },
  {
   "cell_type": "code",
   "execution_count": 101,
   "id": "117e183e",
   "metadata": {},
   "outputs": [],
   "source": [
    "cv2.imshow('dst',a)\n",
    "cv2.waitKey(0)\n",
    "cv2.destroyAllWindows()"
   ]
  },
  {
   "cell_type": "code",
   "execution_count": 97,
   "id": "781bf3a0",
   "metadata": {},
   "outputs": [],
   "source": [
    "bg[:,:]=a"
   ]
  },
  {
   "cell_type": "code",
   "execution_count": 100,
   "id": "ce2a13b4",
   "metadata": {},
   "outputs": [],
   "source": [
    "cv2.imshow('dst',bg)\n",
    "cv2.waitKey(0)\n",
    "cv2.destroyAllWindows()"
   ]
  },
  {
   "cell_type": "code",
   "execution_count": 46,
   "id": "35fc0247",
   "metadata": {},
   "outputs": [],
   "source": [
    "bg=cv2.cvtColor(bg,cv2.COLOR_BGR2GRAY)"
   ]
  },
  {
   "cell_type": "code",
   "execution_count": 14,
   "id": "d325589b",
   "metadata": {},
   "outputs": [],
   "source": [
    "# Load two images\n",
    "img1 = cv2.imread('messi.jpg')\n",
    "img1=cv2.resize(img1,(512,512))\n",
    "img2 = cv2.imread('logo.png')\n",
    "img2=cv2.resize(img2,(126,126))\n",
    "# I want to put logo on top-left corner, So I create a ROI\n",
    "rows,cols,channels = img2.shape\n",
    "roi = img1[0:rows, 0:cols]\n",
    "# Now create a mask of logo and create its inverse mask also\n",
    "img2gray = cv2.cvtColor(img2,cv2.COLOR_BGR2GRAY)\n",
    "ret, mask = cv2.threshold(img2gray, 250, 255, cv2.THRESH_BINARY_INV)\n",
    "mask_inv = cv2.bitwise_not(mask)\n",
    "# Now black-out the area of logo in ROI\n",
    "img1_bg = cv2.bitwise_and(roi,roi,mask = mask_inv)\n",
    "# Take only region of logo from logo image.\n",
    "img2_fg = cv2.bitwise_and(img2,img2,mask = mask)\n",
    "# Put logo in ROI and modify the main image\n",
    "dst = cv2.add(img1_bg,img2_fg)\n",
    "img1[0:rows, 0:cols ] = dst\n",
    "cv2.imshow('res',img2gray)\n",
    "cv2.waitKey(0)\n",
    "cv2.destroyWindow('res')\n",
    "cv2.imshow('res',mask)\n",
    "cv2.waitKey(0)\n",
    "cv2.destroyWindow('res')\n",
    "cv2.imshow('res',mask_inv)\n",
    "cv2.waitKey(0)\n",
    "cv2.destroyWindow('res')\n",
    "cv2.imshow('res',img1_bg)\n",
    "cv2.waitKey(0)\n",
    "cv2.destroyWindow('res')\n",
    "cv2.imshow('res',img2_fg)\n",
    "cv2.waitKey(0)\n",
    "cv2.destroyWindow('res')\n",
    "cv2.imshow('res',dst)\n",
    "cv2.waitKey(0)\n",
    "cv2.destroyWindow('res')\n",
    "cv2.imshow('res',img1)\n",
    "cv2.waitKey(0)\n",
    "cv2.destroyWindow('res')"
   ]
  }
 ],
 "metadata": {
  "kernelspec": {
   "display_name": "Python 3",
   "language": "python",
   "name": "python3"
  },
  "language_info": {
   "codemirror_mode": {
    "name": "ipython",
    "version": 3
   },
   "file_extension": ".py",
   "mimetype": "text/x-python",
   "name": "python",
   "nbconvert_exporter": "python",
   "pygments_lexer": "ipython3",
   "version": "3.8.10"
  }
 },
 "nbformat": 4,
 "nbformat_minor": 5
}
