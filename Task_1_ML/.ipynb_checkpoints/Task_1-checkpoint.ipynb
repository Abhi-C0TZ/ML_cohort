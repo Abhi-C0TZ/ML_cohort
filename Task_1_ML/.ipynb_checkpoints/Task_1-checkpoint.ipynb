{
 "cells": [
  {
   "cell_type": "code",
   "execution_count": 1,
   "id": "d63ef3f8",
   "metadata": {},
   "outputs": [],
   "source": [
    "import cv2"
   ]
  },
  {
   "cell_type": "code",
   "execution_count": 2,
   "id": "887685bb",
   "metadata": {},
   "outputs": [],
   "source": [
    "def wbg(image):\n",
    "    white_bg=image.copy()\n",
    "    white_bg[:,:]=255\n",
    "    bw_img=cv2.cvtColor(image,cv2.COLOR_BGR2GRAY)\n",
    "    ret,mask=cv2.threshold(bw_img,240,255,cv2.THRESH_BINARY_INV)\n",
    "    mask_inv=cv2.bitwise_not(mask)\n",
    "    obj_detect=cv2.bitwise_and(white_bg,white_bg,mask=mask_inv)\n",
    "    obj_colored=cv2.bitwise_and(image,image,mask=mask)\n",
    "    image=cv2.add(obj_detect,obj_colored)\n",
    "    return image"
   ]
  },
  {
   "cell_type": "code",
   "execution_count": 35,
   "id": "97a01088",
   "metadata": {},
   "outputs": [],
   "source": [
    "dir_path='cases/train'"
   ]
  },
  {
   "cell_type": "code",
   "execution_count": 53,
   "id": "692448a0",
   "metadata": {},
   "outputs": [],
   "source": [
    "import os\n",
    "def image_saver(folder):\n",
    "    images = []\n",
    "    img_format=[]\n",
    "    n=0\n",
    "    os.makedirs('results/'+folder)\n",
    "    for file in os.listdir(folder):\n",
    "        if file[-3:]!='xml':\n",
    "            n+=1\n",
    "            image=cv2.imread(dir_path+'/'+file)\n",
    "            image=wbg(image)\n",
    "            image=cv2.cvtColor(image,cv2.COLOR_BGR2GRAY)\n",
    "            if image is not None:\n",
    "                images.append(image)\n",
    "                cv2.imwrite(f'results/{folder}/gray_{file}',image)\n",
    "            if image.dtype not in img_format:\n",
    "                img_format.append(image.dtype)\n",
    "    return images,n,img_format"
   ]
  },
  {
   "cell_type": "code",
   "execution_count": 54,
   "id": "97b51aa5",
   "metadata": {},
   "outputs": [],
   "source": [
    "images,n,img_format=image_saver(dir_path)"
   ]
  },
  {
   "cell_type": "code",
   "execution_count": 57,
   "id": "2cae264a",
   "metadata": {},
   "outputs": [
    {
     "data": {
      "text/plain": [
       "[dtype('uint8')]"
      ]
     },
     "execution_count": 57,
     "metadata": {},
     "output_type": "execute_result"
    }
   ],
   "source": [
    "img_format"
   ]
  }
 ],
 "metadata": {
  "kernelspec": {
   "display_name": "Python 3",
   "language": "python",
   "name": "python3"
  },
  "language_info": {
   "codemirror_mode": {
    "name": "ipython",
    "version": 3
   },
   "file_extension": ".py",
   "mimetype": "text/x-python",
   "name": "python",
   "nbconvert_exporter": "python",
   "pygments_lexer": "ipython3",
   "version": "3.8.10"
  }
 },
 "nbformat": 4,
 "nbformat_minor": 5
}
